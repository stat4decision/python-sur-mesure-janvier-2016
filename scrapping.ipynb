{
 "cells": [
  {
   "cell_type": "code",
   "execution_count": 1,
   "metadata": {
    "collapsed": true
   },
   "outputs": [],
   "source": [
    "from bs4 import BeautifulSoup\n",
    "import requests\n",
    "import pandas as pd\n",
    "from pandas import Series,DataFrame"
   ]
  },
  {
   "cell_type": "code",
   "execution_count": 2,
   "metadata": {
    "collapsed": true
   },
   "outputs": [],
   "source": [
    "#cas des données NBA\n",
    "url2 = 'https://en.wikipedia.org/wiki/List_of_all-time_NBA_win-loss_records'"
   ]
  },
  {
   "cell_type": "code",
   "execution_count": 3,
   "metadata": {
    "collapsed": true
   },
   "outputs": [],
   "source": [
    "#Requête sur la page web\n",
    "#on récupère tous le code de la page\n",
    "result2 = requests.get(url2)\n",
    "c2 = result2.content\n",
    "\n",
    "# on met tout dans un objet BeautifulSoup\n",
    "soup2 = BeautifulSoup(c2)"
   ]
  },
  {
   "cell_type": "code",
   "execution_count": 4,
   "metadata": {
    "collapsed": false
   },
   "outputs": [],
   "source": [
    "# On va jusqu'à la partie qui nous intéresse\n",
    "summary2 = soup2.find(\"div\",{'class':'mw-content-ltr','id':'mw-content-text'})\n",
    "\n",
    "\n",
    "#On recherche les tableaux parmis le contenu\n",
    "tables2 = summary2.find_all('table')"
   ]
  },
  {
   "cell_type": "code",
   "execution_count": 5,
   "metadata": {
    "collapsed": false
   },
   "outputs": [
    {
     "name": "stdout",
     "output_type": "stream",
     "text": [
      "1 San Antonio Spurs 1,939 1,211 .616 1976–77 3,150 Southwest 2 Los Angeles Lakers 3,218 2,069 .609 1948–49 5,287 Pacific 3 Boston Celtics 3,173 2,223 .588 1946–47 5,396 Atlantic 4 Phoenix Suns 2,099 1,707 .551 1968–69 3,806 Pacific 5 Oklahoma City Thunder 2,084 1,804 .536 1967–68 3,888 Northwest 5 Utah Jazz 1,775 1,539 .536 1974–75 3,314 Northwest 7 Portland Trail Blazers 1,947 1,695 .535 1970–71 3,642 Northwest 8 Chicago Bulls 2,073 1,896 .522 1966–67 3,969 Central 9 Philadelphia 76ers 2,716 2,506 .520 1949–50 5,222 Atlantic 10 Miami Heat 1,122 1,044 .518 1988–89 2,166 Southeast 11 Houston Rockets 2,011 1,877 .517 1967–68 3,888 Southwest 12 Milwaukee Bucks 1,950 1,856 .512 1968–69 3,806 Central 13 Dallas Mavericks 1,440 1,382 .510 1980–81 2,822 Southwest 14 Atlanta Hawks 2,602 2,622 .498 1949–50 5,224 Southeast 15 Indiana Pacers 1,561 1,588 .496 1976–77 3,149 Central 16 New York Knicks 2,669 2,724 .495 1946–47 5,393 Atlantic 17 Orlando Magic 1,027 1,057 .493 1989–90 2,084 Southeast 18 Detroit Pistons 2,572 2,714 .487 1948–49 5,286 Central 19 Denver Nuggets 1,530 1,620 .486 1976–77 3,150 Northwest 20 New Orleans Pelicans 498 552 .474 2002–03 1,050 Southwest 21 Golden State Warriors 2,517 2,875 .467 1946–47 5,392 Pacific 22 Sacramento Kings 2,431 2,856 .460 1948–49 5,287 Pacific 23 Cleveland Cavaliers 1,671 1,971 .459 1970–71 3,642 Central 24 Washington Wizards 1,963 2,406 .449 1961–62 4,369 Southeast 25 Charlotte Hornets 868 1,134 .434 1988–89 2,002 Southeast 26 Toronto Raptors 678 914 .426 1995–96 1,592 Atlantic 27 Brooklyn Nets 1,339 1,811 .425 1976–77 3,150 Atlantic 28 Memphis Grizzlies 652 940 .410 1995–96 1,592 Southwest 29 Minnesota Timberwolves 818 1,266 .393 1989–90 2,084 Northwest 30 Los Angeles Clippers 1,416 2,226 .389 1970–71 3,642 Pacific\n"
     ]
    }
   ],
   "source": [
    "# On crée une liste vide\n",
    "data2 = []\n",
    "\n",
    "# on sélectionne le second tableau\n",
    "rows2 = tables2[1].findAll('tr')\n",
    "\n",
    "#  on récupère les lignes colonnes du tableau\n",
    "for tr in rows2:\n",
    "    cols2 = tr.findAll('td')\n",
    "    # on vérifie si on a une ligne\n",
    "    for td in cols2:\n",
    "        text2 = td.find(text=True) \n",
    "        print text2,\n",
    "        data2.append(text2)\n"
   ]
  },
  {
   "cell_type": "code",
   "execution_count": 8,
   "metadata": {
    "collapsed": false
   },
   "outputs": [],
   "source": [
    "#on va créer des listes avec le nom des équipes et les pts cumulés\n",
    "team = []\n",
    "pts = []\n",
    "\n",
    "index = 0\n",
    "\n",
    "#on recherhce les données se trouvant dans les colonnes attendues\n",
    "for item in data2:\n",
    "    if index%8==1:\n",
    "        team.append(data2[index])\n",
    "    if index%8==3:\n",
    "        pts.append(data2[index])\n",
    "    index += 1\n",
    "    "
   ]
  },
  {
   "cell_type": "code",
   "execution_count": 9,
   "metadata": {
    "collapsed": false
   },
   "outputs": [
    {
     "data": {
      "text/plain": [
       "Team    6\n",
       "Pts     6\n",
       "dtype: int64"
      ]
     },
     "execution_count": 9,
     "metadata": {},
     "output_type": "execute_result"
    }
   ],
   "source": [
    "#on va maintenant utiliser des Series et des DataFrame pour stocker les données\n",
    "team = Series(team)\n",
    "pts = Series(pts)\n",
    "\n",
    "frameNBA = pd.concat([team,pts],axis=1)\n",
    "frameNBA.columns = ['Team','Pts']\n",
    "#on modifie la colonne points\n",
    "frameNBA['Pts']=frameNBA['Pts'].str.replace(\",\",\"\")\n",
    "frameNBA['Pts']=frameNBA['Pts'].astype('float')\n",
    "\n",
    "\n",
    "#on veut savoir combien d'équipes ont dépassées les 2500 points\n",
    "frameNBA[frameNBA['Pts']>2500].count()"
   ]
  }
 ],
 "metadata": {
  "kernelspec": {
   "display_name": "Python 2",
   "language": "python",
   "name": "python2"
  },
  "language_info": {
   "codemirror_mode": {
    "name": "ipython",
    "version": 2
   },
   "file_extension": ".py",
   "mimetype": "text/x-python",
   "name": "python",
   "nbconvert_exporter": "python",
   "pygments_lexer": "ipython2",
   "version": "2.7.10"
  }
 },
 "nbformat": 4,
 "nbformat_minor": 0
}
