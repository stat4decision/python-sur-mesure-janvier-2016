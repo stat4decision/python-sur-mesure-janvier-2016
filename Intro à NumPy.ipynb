{
 "cells": [
  {
   "cell_type": "code",
   "execution_count": 1,
   "metadata": {
    "collapsed": true
   },
   "outputs": [],
   "source": [
    "#Créer un nouveau Notebook dans lequel vous chargez la bibliothèque numpy. \n",
    "import numpy as np"
   ]
  },
  {
   "cell_type": "code",
   "execution_count": 5,
   "metadata": {
    "collapsed": false
   },
   "outputs": [
    {
     "name": "stdout",
     "output_type": "stream",
     "text": [
      "[1 2 4 6]\n",
      "(4L,)\n",
      "int32\n"
     ]
    }
   ],
   "source": [
    "#Créez à partir d’une liste un array unidimensionnel et vérifiez sa taille et ce qu’il comporte.\n",
    "mon_array=np.array([1,2,4,6])\n",
    "print mon_array\n",
    "print mon_array.shape\n",
    "print mon_array.dtype"
   ]
  },
  {
   "cell_type": "code",
   "execution_count": 8,
   "metadata": {
    "collapsed": false
   },
   "outputs": [
    {
     "name": "stdout",
     "output_type": "stream",
     "text": [
      "[ 0.  0.  0.  0.  0.  0.  0.  0.  0.  0.] [ 1.  1.  1.  1.  1.  1.  1.  1.  1.  1.]\n"
     ]
    }
   ],
   "source": [
    "#Générez des arrays remplis de 0 et de 1 de taille 10.\n",
    "zero_array=np.zeros(10)\n",
    "one_array=np.ones(10)\n",
    "print zero_array,one_array"
   ]
  },
  {
   "cell_type": "code",
   "execution_count": 12,
   "metadata": {
    "collapsed": false
   },
   "outputs": [
    {
     "name": "stdout",
     "output_type": "stream",
     "text": [
      "[[  1   8  64]\n",
      " [  1   8  27]\n",
      " [  1   8 125]]\n"
     ]
    }
   ],
   "source": [
    "#Créez un array bidimensionnel avec des valeurs quelconques, calculer le cube de cet array\n",
    "mon_array=np.array([[1,2,4],[1,2,3],[1,2,5]])\n",
    "print mon_array**3"
   ]
  },
  {
   "cell_type": "code",
   "execution_count": 17,
   "metadata": {
    "collapsed": false
   },
   "outputs": [
    {
     "name": "stdout",
     "output_type": "stream",
     "text": [
      "[1 2 3 4 5 6]\n",
      "[ 0  1  2  3  4  5  6 22 22]\n"
     ]
    }
   ],
   "source": [
    "#Générer un array avec des valeurs entre 0 et 8, afficher les éléments 1 à 6 \n",
    "#puis modifiez les élément 6 à 8 en leur fixant la valeur de 22.\n",
    "\n",
    "mon_array=np.array(range(9))\n",
    "print mon_array[1:7]\n",
    "mon_array[7:9]=22\n",
    "print mon_array\n"
   ]
  },
  {
   "cell_type": "code",
   "execution_count": 35,
   "metadata": {
    "collapsed": false
   },
   "outputs": [
    {
     "name": "stdout",
     "output_type": "stream",
     "text": [
      "[[155 176]\n",
      " [176 200]]\n"
     ]
    }
   ],
   "source": [
    "#Construire une matrice rectangulaire de taille 3 x 2 avec une suite de nombres commençant à 5, calculer le produit de la transposée par la matrice.\n",
    "mat1=np.arange(5,11).reshape((3,2))\n",
    "print np.dot(mat1.T,mat1)\n"
   ]
  },
  {
   "cell_type": "code",
   "execution_count": 47,
   "metadata": {
    "collapsed": false,
    "scrolled": true
   },
   "outputs": [
    {
     "name": "stdout",
     "output_type": "stream",
     "text": [
      "[ 0.2685868   0.95628636  0.13698128  0.7102122  -1.65516037  0.9285421\n",
      " -0.7671004   1.53821393  1.58420486]\n",
      "[ 0.          0.          0.13698128  0.2685868   0.7102122   0.9285421\n",
      "  0.95628636  1.53821393  1.58420486]\n"
     ]
    }
   ],
   "source": [
    "#Générer un array de nombres aléatoires puis remplacer les valeurs plus petites que 0 par 0. Trier l’array obtenu\n",
    "\n",
    "mat1 =np.random.randn(9)\n",
    "print mat1\n",
    "mat2=np.where(mat1>0,mat1,0)\n",
    "print np.sort(mat2)"
   ]
  },
  {
   "cell_type": "code",
   "execution_count": 49,
   "metadata": {
    "collapsed": false
   },
   "outputs": [
    {
     "name": "stdout",
     "output_type": "stream",
     "text": [
      "[ 0.33883133  1.55429944  1.22138069  0.64163717  0.33368793  1.05906189\n",
      "  1.09302931  2.83397916  0.93731308]\n"
     ]
    }
   ],
   "source": [
    "#Générer un array de nombres aléatoires tirés d’une loi normale et en calculer l’exponentielle\n",
    "mat1 =np.random.randn(9)\n",
    "print np.exp(mat1)"
   ]
  },
  {
   "cell_type": "code",
   "execution_count": 54,
   "metadata": {
    "collapsed": false
   },
   "outputs": [],
   "source": [
    "#Générer une matrice simple et sauvegarder cette matrice dans array.npy puis dans array.txt\n",
    "mat1=np.arange(9).reshape(3,3)\n",
    "\n",
    "np.save(\"ma_mat.npy\",mat1)\n",
    "np.savetxt('ma_mat.txt', mat1, delimiter=';')"
   ]
  },
  {
   "cell_type": "code",
   "execution_count": null,
   "metadata": {
    "collapsed": true
   },
   "outputs": [],
   "source": []
  }
 ],
 "metadata": {
  "kernelspec": {
   "display_name": "Python 2",
   "language": "python",
   "name": "python2"
  },
  "language_info": {
   "codemirror_mode": {
    "name": "ipython",
    "version": 2
   },
   "file_extension": ".py",
   "mimetype": "text/x-python",
   "name": "python",
   "nbconvert_exporter": "python",
   "pygments_lexer": "ipython2",
   "version": "2.7.10"
  }
 },
 "nbformat": 4,
 "nbformat_minor": 0
}
